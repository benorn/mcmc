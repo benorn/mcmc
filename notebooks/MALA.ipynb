{
 "cells": [
  {
   "cell_type": "markdown",
   "metadata": {},
   "source": [
    "# MALA\n",
    "\n",
    "The Metropolis-Adjusted Langevin Algorithm (MALA) is essentially a Metropolis-Hastings algorithm but with a better proposal distribution $q$. Intuitively, we can think of the proposal as 'better' because it incorporates information about the _gradient_ of the distribution we are attempting to simulate when choosing a new point, rather than just being a random guess at where might be nice to go next.\n",
    "\n",
    "The Langevin diffusion which produces an invariant distribution $\\pi$ is given by:\n",
    "\n",
    "$$\n",
    "d \\mathbf{\\Lambda}_t = \\sigma d\\mathbf{B}_t + \\frac{\\sigma^2}{2} \\nabla \\log(\\pi(\\mathbf{\\Lambda_t})) dt\n",
    "$$\n",
    "\n",
    "Here $\\mathbf{B}_t$ is an $n$-dimensional Brownian motion, $\\pi$ is the $n$-dimensional distribution we wish to sample from and $\\sigma$ is, as in Metropolis-Hastings, a tuning parameter affecting the step size.\n",
    "\n",
    "We need a discretization of the above equation to actually be able to produce samples, and this is where the Hastings reject step enters play. The discretization used is based on an Euler scheme and is given by:\n",
    "\n",
    "$$\n",
    "\\tilde{\\mathbf{\\Lambda}}_{t+1} = \\tilde{\\mathbf{\\Lambda}}_t + \\sigma_n \\mathbf{Z}_{t+1} + \n",
    "    \\frac{\\sigma^2}{2} \\nabla \\log(\\pi(\\tilde{\\mathbf{\\Lambda_t}}))\n",
    "$$\n",
    "\n",
    "The problem here is that _any_ discretization of the SDE above breaks the property that the invariant distribution will be $\\pi$. This necessitates a reject step."
   ]
  },
  {
   "cell_type": "code",
   "execution_count": 62,
   "metadata": {
    "collapsed": false
   },
   "outputs": [],
   "source": [
    "import numpy as np\n",
    "import theano, theano.tensor as T\n",
    "import matplotlib.pyplot as plt\n",
    "%matplotlib inline"
   ]
  },
  {
   "cell_type": "code",
   "execution_count": 86,
   "metadata": {
    "collapsed": true
   },
   "outputs": [],
   "source": [
    "def mh_mcmc(x_0, h, q, proposal, n, with_stats=False):\n",
    "    x_0 = np.asarray(x_0)\n",
    "    x = x_0\n",
    "    chain = np.empty((n, x_0.shape[0]))\n",
    "    chain[0, :] = x_0\n",
    "    acceptances = 0\n",
    "    \n",
    "    proposals=0\n",
    "    while True:\n",
    "        proposals+=1\n",
    "        y = proposal(x)\n",
    "        r = h(y) * q(y, x) / (h(x) * q(x, y)) # metropolis-hastings update\n",
    "        #r = h(y) / h(x) # metropolis update\n",
    "        #print y, r, h(y), h(x)\n",
    "        a = min(1, r)\n",
    "        if np.random.uniform() < a:\n",
    "            chain[acceptances] = y\n",
    "            x = y\n",
    "            acceptances+=1\n",
    "            if acceptances == n: break\n",
    "    if not with_stats:\n",
    "        return chain\n",
    "    \n",
    "    return chain, {'proposals': proposals}"
   ]
  },
  {
   "cell_type": "code",
   "execution_count": 150,
   "metadata": {
    "collapsed": true
   },
   "outputs": [],
   "source": [
    "# mean and variance for the distribution we will be sampling\n",
    "mu = np.array([0., 1.])\n",
    "Sigma = np.array([[2., 3.], [2., 1.]])\n",
    "Sigma = Sigma.T.dot(Sigma)"
   ]
  },
  {
   "cell_type": "code",
   "execution_count": 151,
   "metadata": {
    "collapsed": false
   },
   "outputs": [],
   "source": [
    "x = T.dvector('x')\n",
    "\n",
    "mu_s = theano.shared(mu)\n",
    "Sigma_inv_s = theano.shared(np.linalg.inv(Sigma))\n",
    "\n",
    "shifted = x - mu_s\n",
    "pi = T.exp(-T.dot(T.dot(T.transpose(shifted), Sigma_inv_s), shifted) / 2.)\n",
    "grad = T.grad(T.log(pi), x)"
   ]
  },
  {
   "cell_type": "code",
   "execution_count": 152,
   "metadata": {
    "collapsed": false
   },
   "outputs": [],
   "source": [
    "h = theano.function([x], pi)\n",
    "grad_fun = theano.function([x], grad)\n",
    "def mala_proposal(x, sigma):\n",
    "    return x + sigma * np.random.normal(size=x.shape) + sigma**2 / 2. * grad_fun(x)\n",
    "def proposal_proba(x, y, sigma):\n",
    "    sigma2 = sigma**2\n",
    "    exponent = -np.sum((x - y - sigma2 / 2 * grad_fun(x))**2) / (2. * sigma2)\n",
    "    return np.exp(exponent) / (2 * np.pi * sigma2)**(x.shape[0] / 2.)\n",
    "sigma = 0.2\n",
    "proposal = lambda x: mala_proposal(x, sigma)\n",
    "q = lambda x, y: proposal_proba(x, y, sigma)"
   ]
  },
  {
   "cell_type": "code",
   "execution_count": 153,
   "metadata": {
    "collapsed": false
   },
   "outputs": [],
   "source": [
    "x_0 = np.array([2., 2.])\n",
    "samp = mh_mcmc(x_0, h, q, proposal, 10000)"
   ]
  },
  {
   "cell_type": "code",
   "execution_count": 154,
   "metadata": {
    "collapsed": false
   },
   "outputs": [
    {
     "data": {
      "image/png": "[encoded data removed]",
      "text/plain": [
       "<matplotlib.figure.Figure at 0x110fef9d0>"
      ]
     },
     "metadata": {},
     "output_type": "display_data"
    }
   ],
   "source": [
    "plt.figure(figsize=(12, 5))\n",
    "plt.subplot(121)\n",
    "plt.hist(samp[:,0], 50);\n",
    "plt.subplot(122)\n",
    "plt.hist(samp[:,0], 50);"
   ]
  },
  {
   "cell_type": "code",
   "execution_count": 155,
   "metadata": {
    "collapsed": false
   },
   "outputs": [
    {
     "data": {
      "image/png": "[encoded data removed]",
      "text/plain": [
       "<matplotlib.figure.Figure at 0x111515110>"
      ]
     },
     "metadata": {},
     "output_type": "display_data"
    }
   ],
   "source": [
    "plt.hist2d(samp[:,0], samp[:,1], 50);"
   ]
  },
  {
   "cell_type": "code",
   "execution_count": 156,
   "metadata": {
    "collapsed": false
   },
   "outputs": [
    {
     "data": {
      "text/plain": [
       "[<matplotlib.lines.Line2D at 0x11147dc90>]"
      ]
     },
     "execution_count": 156,
     "metadata": {},
     "output_type": "execute_result"
    },
    {
     "data": {
      "image/png": "[encoded data removed]",
      "text/plain": [
       "<matplotlib.figure.Figure at 0x1110bd3d0>"
      ]
     },
     "metadata": {},
     "output_type": "display_data"
    }
   ],
   "source": [
    "plt.plot(samp[:,0], samp[:,1])"
   ]
  }
 ],
 "metadata": {
  "kernelspec": {
   "display_name": "Python 2",
   "language": "python",
   "name": "python2"
  },
  "language_info": {
   "codemirror_mode": {
    "name": "ipython",
    "version": 2
   },
   "file_extension": ".py",
   "mimetype": "text/x-python",
   "name": "python",
   "nbconvert_exporter": "python",
   "pygments_lexer": "ipython2",
   "version": "2.7.8"
  }
 },
 "nbformat": 4,
 "nbformat_minor": 0
}
